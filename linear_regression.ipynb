{
  "nbformat": 4,
  "nbformat_minor": 0,
  "metadata": {
    "colab": {
      "name": "linear regression.ipynb",
      "provenance": [],
      "collapsed_sections": [],
      "toc_visible": true,
      "authorship_tag": "ABX9TyN45jQcqvyf0orNDFDGPR9q",
      "include_colab_link": true
    },
    "kernelspec": {
      "name": "python3",
      "display_name": "Python 3"
    }
  },
  "cells": [
    {
      "cell_type": "markdown",
      "metadata": {
        "id": "view-in-github",
        "colab_type": "text"
      },
      "source": [
        "<a href=\"https://colab.research.google.com/github/19PA1A0495/10-03-2020/blob/master/linear_regression.ipynb\" target=\"_parent\"><img src=\"https://colab.research.google.com/assets/colab-badge.svg\" alt=\"Open In Colab\"/></a>"
      ]
    },
    {
      "cell_type": "code",
      "metadata": {
        "id": "dOdIjMkvlYmA",
        "colab_type": "code",
        "colab": {}
      },
      "source": [
        "import pandas as pd # for handling data in the form of tables\n",
        "import numpy as np # For handling matrix\n",
        "from sklearn.model_selection import train_test_split # For spliting the data into tr\n",
        "from sklearn.linear_model import LinearRegression # for using the model\n",
        "import matplotlib.pyplot as plt"
      ],
      "execution_count": 0,
      "outputs": []
    },
    {
      "cell_type": "code",
      "metadata": {
        "id": "YTlV4Elbl_WN",
        "colab_type": "code",
        "outputId": "0e6222ae-3945-4c0e-b960-976afe01b482",
        "colab": {
          "base_uri": "https://localhost:8080/",
          "height": 456
        }
      },
      "source": [
        "data=pd.read_csv(\"students_placement_data.csv\")\n",
        "data\n"
      ],
      "execution_count": 92,
      "outputs": [
        {
          "output_type": "execute_result",
          "data": {
            "text/html": [
              "<div>\n",
              "<style scoped>\n",
              "    .dataframe tbody tr th:only-of-type {\n",
              "        vertical-align: middle;\n",
              "    }\n",
              "\n",
              "    .dataframe tbody tr th {\n",
              "        vertical-align: top;\n",
              "    }\n",
              "\n",
              "    .dataframe thead th {\n",
              "        text-align: right;\n",
              "    }\n",
              "</style>\n",
              "<table border=\"1\" class=\"dataframe\">\n",
              "  <thead>\n",
              "    <tr style=\"text-align: right;\">\n",
              "      <th></th>\n",
              "      <th>Roll No</th>\n",
              "      <th>Gender</th>\n",
              "      <th>Section</th>\n",
              "      <th>SSC Percentage</th>\n",
              "      <th>inter_Diploma_percentage</th>\n",
              "      <th>B.Tech_percentage</th>\n",
              "      <th>Backlogs</th>\n",
              "      <th>registered_for_ Placement_Training</th>\n",
              "      <th>placement status</th>\n",
              "    </tr>\n",
              "  </thead>\n",
              "  <tbody>\n",
              "    <tr>\n",
              "      <th>0</th>\n",
              "      <td>1</td>\n",
              "      <td>M</td>\n",
              "      <td>A</td>\n",
              "      <td>87.3</td>\n",
              "      <td>65.30</td>\n",
              "      <td>40.00</td>\n",
              "      <td>18</td>\n",
              "      <td>NO</td>\n",
              "      <td>Not placed</td>\n",
              "    </tr>\n",
              "    <tr>\n",
              "      <th>1</th>\n",
              "      <td>2</td>\n",
              "      <td>F</td>\n",
              "      <td>A</td>\n",
              "      <td>89.0</td>\n",
              "      <td>92.40</td>\n",
              "      <td>71.45</td>\n",
              "      <td>0</td>\n",
              "      <td>yes</td>\n",
              "      <td>Placed</td>\n",
              "    </tr>\n",
              "    <tr>\n",
              "      <th>2</th>\n",
              "      <td>3</td>\n",
              "      <td>F</td>\n",
              "      <td>A</td>\n",
              "      <td>67.0</td>\n",
              "      <td>68.00</td>\n",
              "      <td>45.26</td>\n",
              "      <td>13</td>\n",
              "      <td>yes</td>\n",
              "      <td>Not placed</td>\n",
              "    </tr>\n",
              "    <tr>\n",
              "      <th>3</th>\n",
              "      <td>4</td>\n",
              "      <td>M</td>\n",
              "      <td>A</td>\n",
              "      <td>71.0</td>\n",
              "      <td>70.40</td>\n",
              "      <td>36.47</td>\n",
              "      <td>17</td>\n",
              "      <td>yes</td>\n",
              "      <td>Not placed</td>\n",
              "    </tr>\n",
              "    <tr>\n",
              "      <th>4</th>\n",
              "      <td>5</td>\n",
              "      <td>M</td>\n",
              "      <td>A</td>\n",
              "      <td>67.0</td>\n",
              "      <td>65.50</td>\n",
              "      <td>42.52</td>\n",
              "      <td>17</td>\n",
              "      <td>yes</td>\n",
              "      <td>Not placed</td>\n",
              "    </tr>\n",
              "    <tr>\n",
              "      <th>...</th>\n",
              "      <td>...</td>\n",
              "      <td>...</td>\n",
              "      <td>...</td>\n",
              "      <td>...</td>\n",
              "      <td>...</td>\n",
              "      <td>...</td>\n",
              "      <td>...</td>\n",
              "      <td>...</td>\n",
              "      <td>...</td>\n",
              "    </tr>\n",
              "    <tr>\n",
              "      <th>112</th>\n",
              "      <td>113</td>\n",
              "      <td>M</td>\n",
              "      <td>B</td>\n",
              "      <td>81.1</td>\n",
              "      <td>78.60</td>\n",
              "      <td>35.84</td>\n",
              "      <td>16</td>\n",
              "      <td>NO</td>\n",
              "      <td>Not placed</td>\n",
              "    </tr>\n",
              "    <tr>\n",
              "      <th>113</th>\n",
              "      <td>114</td>\n",
              "      <td>M</td>\n",
              "      <td>B</td>\n",
              "      <td>81.3</td>\n",
              "      <td>85.12</td>\n",
              "      <td>68.50</td>\n",
              "      <td>0</td>\n",
              "      <td>NO</td>\n",
              "      <td>Not placed</td>\n",
              "    </tr>\n",
              "    <tr>\n",
              "      <th>114</th>\n",
              "      <td>115</td>\n",
              "      <td>M</td>\n",
              "      <td>B</td>\n",
              "      <td>83.5</td>\n",
              "      <td>89.90</td>\n",
              "      <td>76.30</td>\n",
              "      <td>0</td>\n",
              "      <td>NO</td>\n",
              "      <td>Not placed</td>\n",
              "    </tr>\n",
              "    <tr>\n",
              "      <th>115</th>\n",
              "      <td>116</td>\n",
              "      <td>M</td>\n",
              "      <td>B</td>\n",
              "      <td>85.5</td>\n",
              "      <td>90.63</td>\n",
              "      <td>74.50</td>\n",
              "      <td>0</td>\n",
              "      <td>NO</td>\n",
              "      <td>Not placed</td>\n",
              "    </tr>\n",
              "    <tr>\n",
              "      <th>116</th>\n",
              "      <td>117</td>\n",
              "      <td>M</td>\n",
              "      <td>B</td>\n",
              "      <td>80.0</td>\n",
              "      <td>83.33</td>\n",
              "      <td>65.53</td>\n",
              "      <td>0</td>\n",
              "      <td>NO</td>\n",
              "      <td>Not placed</td>\n",
              "    </tr>\n",
              "  </tbody>\n",
              "</table>\n",
              "<p>117 rows × 9 columns</p>\n",
              "</div>"
            ],
            "text/plain": [
              "     Roll No Gender  ... registered_for_ Placement_Training  placement status\n",
              "0          1      M  ...                                 NO        Not placed\n",
              "1          2      F  ...                                yes            Placed\n",
              "2          3      F  ...                                yes        Not placed\n",
              "3          4      M  ...                                yes        Not placed\n",
              "4          5      M  ...                                yes        Not placed\n",
              "..       ...    ...  ...                                ...               ...\n",
              "112      113      M  ...                                 NO        Not placed\n",
              "113      114      M  ...                                 NO        Not placed\n",
              "114      115      M  ...                                 NO        Not placed\n",
              "115      116      M  ...                                 NO        Not placed\n",
              "116      117      M  ...                                 NO        Not placed\n",
              "\n",
              "[117 rows x 9 columns]"
            ]
          },
          "metadata": {
            "tags": []
          },
          "execution_count": 92
        }
      ]
    },
    {
      "cell_type": "code",
      "metadata": {
        "id": "rWGqYGwp9w6x",
        "colab_type": "code",
        "colab": {
          "base_uri": "https://localhost:8080/",
          "height": 297
        },
        "outputId": "e9d1cf49-eed4-4e5d-8e83-34733e2aab11"
      },
      "source": [
        "data.describe()"
      ],
      "execution_count": 93,
      "outputs": [
        {
          "output_type": "execute_result",
          "data": {
            "text/html": [
              "<div>\n",
              "<style scoped>\n",
              "    .dataframe tbody tr th:only-of-type {\n",
              "        vertical-align: middle;\n",
              "    }\n",
              "\n",
              "    .dataframe tbody tr th {\n",
              "        vertical-align: top;\n",
              "    }\n",
              "\n",
              "    .dataframe thead th {\n",
              "        text-align: right;\n",
              "    }\n",
              "</style>\n",
              "<table border=\"1\" class=\"dataframe\">\n",
              "  <thead>\n",
              "    <tr style=\"text-align: right;\">\n",
              "      <th></th>\n",
              "      <th>Roll No</th>\n",
              "      <th>SSC Percentage</th>\n",
              "      <th>inter_Diploma_percentage</th>\n",
              "      <th>B.Tech_percentage</th>\n",
              "      <th>Backlogs</th>\n",
              "    </tr>\n",
              "  </thead>\n",
              "  <tbody>\n",
              "    <tr>\n",
              "      <th>count</th>\n",
              "      <td>117.000000</td>\n",
              "      <td>117.000000</td>\n",
              "      <td>117.000000</td>\n",
              "      <td>117.000000</td>\n",
              "      <td>117.000000</td>\n",
              "    </tr>\n",
              "    <tr>\n",
              "      <th>mean</th>\n",
              "      <td>59.000000</td>\n",
              "      <td>80.324359</td>\n",
              "      <td>80.772906</td>\n",
              "      <td>62.943419</td>\n",
              "      <td>4.111111</td>\n",
              "    </tr>\n",
              "    <tr>\n",
              "      <th>std</th>\n",
              "      <td>33.919021</td>\n",
              "      <td>8.879266</td>\n",
              "      <td>11.267248</td>\n",
              "      <td>12.064306</td>\n",
              "      <td>6.335148</td>\n",
              "    </tr>\n",
              "    <tr>\n",
              "      <th>min</th>\n",
              "      <td>1.000000</td>\n",
              "      <td>47.800000</td>\n",
              "      <td>52.200000</td>\n",
              "      <td>31.200000</td>\n",
              "      <td>0.000000</td>\n",
              "    </tr>\n",
              "    <tr>\n",
              "      <th>25%</th>\n",
              "      <td>30.000000</td>\n",
              "      <td>76.000000</td>\n",
              "      <td>73.400000</td>\n",
              "      <td>54.180000</td>\n",
              "      <td>0.000000</td>\n",
              "    </tr>\n",
              "    <tr>\n",
              "      <th>50%</th>\n",
              "      <td>59.000000</td>\n",
              "      <td>82.330000</td>\n",
              "      <td>83.600000</td>\n",
              "      <td>64.360000</td>\n",
              "      <td>0.000000</td>\n",
              "    </tr>\n",
              "    <tr>\n",
              "      <th>75%</th>\n",
              "      <td>88.000000</td>\n",
              "      <td>87.000000</td>\n",
              "      <td>90.000000</td>\n",
              "      <td>72.570000</td>\n",
              "      <td>7.000000</td>\n",
              "    </tr>\n",
              "    <tr>\n",
              "      <th>max</th>\n",
              "      <td>117.000000</td>\n",
              "      <td>93.660000</td>\n",
              "      <td>96.900000</td>\n",
              "      <td>88.100000</td>\n",
              "      <td>25.000000</td>\n",
              "    </tr>\n",
              "  </tbody>\n",
              "</table>\n",
              "</div>"
            ],
            "text/plain": [
              "          Roll No  SSC Percentage  ...  B.Tech_percentage    Backlogs\n",
              "count  117.000000      117.000000  ...         117.000000  117.000000\n",
              "mean    59.000000       80.324359  ...          62.943419    4.111111\n",
              "std     33.919021        8.879266  ...          12.064306    6.335148\n",
              "min      1.000000       47.800000  ...          31.200000    0.000000\n",
              "25%     30.000000       76.000000  ...          54.180000    0.000000\n",
              "50%     59.000000       82.330000  ...          64.360000    0.000000\n",
              "75%     88.000000       87.000000  ...          72.570000    7.000000\n",
              "max    117.000000       93.660000  ...          88.100000   25.000000\n",
              "\n",
              "[8 rows x 5 columns]"
            ]
          },
          "metadata": {
            "tags": []
          },
          "execution_count": 93
        }
      ]
    },
    {
      "cell_type": "markdown",
      "metadata": {
        "id": "4BY-UFMKyfk5",
        "colab_type": "text"
      },
      "source": [
        "Q1)\n",
        "**MEAN SQUARE ERROR:** It is the average squared difference between the predicted and actual values.\n",
        "**MEAN ABSOLUTE ERROR:** It is the average over the test sample of the absolute differences between prediction and actual values where all individual differeences have equal weights.\n",
        "**R2 ERROR:** It explains the regression analysis"
      ]
    },
    {
      "cell_type": "markdown",
      "metadata": {
        "id": "pE3-Rf6M_K2e",
        "colab_type": "text"
      },
      "source": [
        "Q2)BOX PLOT FOR PLACEMENT STATUS BETWEEN A AND B W.R.T BTECH PERCENTAGE"
      ]
    },
    {
      "cell_type": "code",
      "metadata": {
        "id": "nxejc6Ta6aw1",
        "colab_type": "code",
        "colab": {
          "base_uri": "https://localhost:8080/",
          "height": 318
        },
        "outputId": "1e0078a6-baa0-4471-b1f6-1d01b32cb1f8"
      },
      "source": [
        "data.boxplot(by ='placement status' , column =['B.Tech_percentage'], grid = False ) \n"
      ],
      "execution_count": 88,
      "outputs": [
        {
          "output_type": "execute_result",
          "data": {
            "text/plain": [
              "<matplotlib.axes._subplots.AxesSubplot at 0x7ff71f91c908>"
            ]
          },
          "metadata": {
            "tags": []
          },
          "execution_count": 88
        },
        {
          "output_type": "display_data",
          "data": {
            "image/png": "[encoded data removed]",
            "text/plain": [
              "<Figure size 432x288 with 1 Axes>"
            ]
          },
          "metadata": {
            "tags": []
          }
        }
      ]
    },
    {
      "cell_type": "markdown",
      "metadata": {
        "id": "K4K8w9qj-2_N",
        "colab_type": "text"
      },
      "source": [
        "BOX PLOT FOR PERFORMANCE BETWEEN A AND B SECTIONS "
      ]
    },
    {
      "cell_type": "code",
      "metadata": {
        "id": "164gUKlr9J1I",
        "colab_type": "code",
        "colab": {
          "base_uri": "https://localhost:8080/",
          "height": 318
        },
        "outputId": "0f6f9030-d377-4eed-ec4f-e333327276a9"
      },
      "source": [
        "data.boxplot(by ='Section' , column =['B.Tech_percentage'], grid = True ) \n"
      ],
      "execution_count": 94,
      "outputs": [
        {
          "output_type": "execute_result",
          "data": {
            "text/plain": [
              "<matplotlib.axes._subplots.AxesSubplot at 0x7ff71f54a0f0>"
            ]
          },
          "metadata": {
            "tags": []
          },
          "execution_count": 94
        },
        {
          "output_type": "display_data",
          "data": {
            "image/png": "[encoded data removed]",
            "text/plain": [
              "<Figure size 432x288 with 1 Axes>"
            ]
          },
          "metadata": {
            "tags": []
          }
        }
      ]
    },
    {
      "cell_type": "markdown",
      "metadata": {
        "id": "BV5GbXLZA4vt",
        "colab_type": "text"
      },
      "source": [
        "From the graphs, we can clearly say that the performance of students of section A is better than section B"
      ]
    },
    {
      "cell_type": "markdown",
      "metadata": {
        "id": "I8AVczUkBLYw",
        "colab_type": "text"
      },
      "source": [
        "Q3) FINDING SLOPE AND INTERCEPT FOR SSC AND INTER PERCENTAGE FOR BOTH A AND B SECTIONS SEPERATELY"
      ]
    },
    {
      "cell_type": "code",
      "metadata": {
        "id": "WPSIReINubnI",
        "colab_type": "code",
        "colab": {
          "base_uri": "https://localhost:8080/",
          "height": 456
        },
        "outputId": "14cbab45-1177-4757-9274-951212952a8e"
      },
      "source": [
        "a=data[:61]\n",
        "a"
      ],
      "execution_count": 39,
      "outputs": [
        {
          "output_type": "execute_result",
          "data": {
            "text/html": [
              "<div>\n",
              "<style scoped>\n",
              "    .dataframe tbody tr th:only-of-type {\n",
              "        vertical-align: middle;\n",
              "    }\n",
              "\n",
              "    .dataframe tbody tr th {\n",
              "        vertical-align: top;\n",
              "    }\n",
              "\n",
              "    .dataframe thead th {\n",
              "        text-align: right;\n",
              "    }\n",
              "</style>\n",
              "<table border=\"1\" class=\"dataframe\">\n",
              "  <thead>\n",
              "    <tr style=\"text-align: right;\">\n",
              "      <th></th>\n",
              "      <th>Roll No</th>\n",
              "      <th>Gender</th>\n",
              "      <th>Section</th>\n",
              "      <th>SSC Percentage</th>\n",
              "      <th>inter_Diploma_percentage</th>\n",
              "      <th>B.Tech_percentage</th>\n",
              "      <th>Backlogs</th>\n",
              "      <th>registered_for_ Placement_Training</th>\n",
              "      <th>placement status</th>\n",
              "    </tr>\n",
              "  </thead>\n",
              "  <tbody>\n",
              "    <tr>\n",
              "      <th>0</th>\n",
              "      <td>1</td>\n",
              "      <td>M</td>\n",
              "      <td>B</td>\n",
              "      <td>87.30</td>\n",
              "      <td>65.3</td>\n",
              "      <td>40.00</td>\n",
              "      <td>18</td>\n",
              "      <td>NO</td>\n",
              "      <td>Not placed</td>\n",
              "    </tr>\n",
              "    <tr>\n",
              "      <th>1</th>\n",
              "      <td>2</td>\n",
              "      <td>F</td>\n",
              "      <td>NaN</td>\n",
              "      <td>89.00</td>\n",
              "      <td>92.4</td>\n",
              "      <td>71.45</td>\n",
              "      <td>0</td>\n",
              "      <td>yes</td>\n",
              "      <td>Placed</td>\n",
              "    </tr>\n",
              "    <tr>\n",
              "      <th>2</th>\n",
              "      <td>3</td>\n",
              "      <td>F</td>\n",
              "      <td>NaN</td>\n",
              "      <td>67.00</td>\n",
              "      <td>68.0</td>\n",
              "      <td>45.26</td>\n",
              "      <td>13</td>\n",
              "      <td>yes</td>\n",
              "      <td>Not placed</td>\n",
              "    </tr>\n",
              "    <tr>\n",
              "      <th>3</th>\n",
              "      <td>4</td>\n",
              "      <td>M</td>\n",
              "      <td>NaN</td>\n",
              "      <td>71.00</td>\n",
              "      <td>70.4</td>\n",
              "      <td>36.47</td>\n",
              "      <td>17</td>\n",
              "      <td>yes</td>\n",
              "      <td>Not placed</td>\n",
              "    </tr>\n",
              "    <tr>\n",
              "      <th>4</th>\n",
              "      <td>5</td>\n",
              "      <td>M</td>\n",
              "      <td>NaN</td>\n",
              "      <td>67.00</td>\n",
              "      <td>65.5</td>\n",
              "      <td>42.52</td>\n",
              "      <td>17</td>\n",
              "      <td>yes</td>\n",
              "      <td>Not placed</td>\n",
              "    </tr>\n",
              "    <tr>\n",
              "      <th>...</th>\n",
              "      <td>...</td>\n",
              "      <td>...</td>\n",
              "      <td>...</td>\n",
              "      <td>...</td>\n",
              "      <td>...</td>\n",
              "      <td>...</td>\n",
              "      <td>...</td>\n",
              "      <td>...</td>\n",
              "      <td>...</td>\n",
              "    </tr>\n",
              "    <tr>\n",
              "      <th>56</th>\n",
              "      <td>57</td>\n",
              "      <td>M</td>\n",
              "      <td>NaN</td>\n",
              "      <td>64.00</td>\n",
              "      <td>56.7</td>\n",
              "      <td>31.20</td>\n",
              "      <td>22</td>\n",
              "      <td>NO</td>\n",
              "      <td>Not placed</td>\n",
              "    </tr>\n",
              "    <tr>\n",
              "      <th>57</th>\n",
              "      <td>58</td>\n",
              "      <td>M</td>\n",
              "      <td>NaN</td>\n",
              "      <td>72.50</td>\n",
              "      <td>67.8</td>\n",
              "      <td>52.31</td>\n",
              "      <td>5</td>\n",
              "      <td>yes</td>\n",
              "      <td>Not placed</td>\n",
              "    </tr>\n",
              "    <tr>\n",
              "      <th>58</th>\n",
              "      <td>59</td>\n",
              "      <td>F</td>\n",
              "      <td>NaN</td>\n",
              "      <td>90.30</td>\n",
              "      <td>93.7</td>\n",
              "      <td>77.95</td>\n",
              "      <td>0</td>\n",
              "      <td>yes</td>\n",
              "      <td>Placed</td>\n",
              "    </tr>\n",
              "    <tr>\n",
              "      <th>59</th>\n",
              "      <td>60</td>\n",
              "      <td>F</td>\n",
              "      <td>NaN</td>\n",
              "      <td>90.66</td>\n",
              "      <td>94.7</td>\n",
              "      <td>81.10</td>\n",
              "      <td>0</td>\n",
              "      <td>yes</td>\n",
              "      <td>Placed</td>\n",
              "    </tr>\n",
              "    <tr>\n",
              "      <th>60</th>\n",
              "      <td>61</td>\n",
              "      <td>F</td>\n",
              "      <td>NaN</td>\n",
              "      <td>81.83</td>\n",
              "      <td>85.6</td>\n",
              "      <td>60.72</td>\n",
              "      <td>6</td>\n",
              "      <td>NO</td>\n",
              "      <td>Not placed</td>\n",
              "    </tr>\n",
              "  </tbody>\n",
              "</table>\n",
              "<p>61 rows × 9 columns</p>\n",
              "</div>"
            ],
            "text/plain": [
              "    Roll No Gender  ... registered_for_ Placement_Training  placement status\n",
              "0         1      M  ...                                 NO        Not placed\n",
              "1         2      F  ...                                yes            Placed\n",
              "2         3      F  ...                                yes        Not placed\n",
              "3         4      M  ...                                yes        Not placed\n",
              "4         5      M  ...                                yes        Not placed\n",
              "..      ...    ...  ...                                ...               ...\n",
              "56       57      M  ...                                 NO        Not placed\n",
              "57       58      M  ...                                yes        Not placed\n",
              "58       59      F  ...                                yes            Placed\n",
              "59       60      F  ...                                yes            Placed\n",
              "60       61      F  ...                                 NO        Not placed\n",
              "\n",
              "[61 rows x 9 columns]"
            ]
          },
          "metadata": {
            "tags": []
          },
          "execution_count": 39
        }
      ]
    },
    {
      "cell_type": "code",
      "metadata": {
        "id": "GRJc-IAmumYh",
        "colab_type": "code",
        "colab": {
          "base_uri": "https://localhost:8080/",
          "height": 1000
        },
        "outputId": "c9ae0fdc-3be3-4a38-f33c-97085d0ab164"
      },
      "source": [
        "b=data[61:]\n",
        "b"
      ],
      "execution_count": 59,
      "outputs": [
        {
          "output_type": "execute_result",
          "data": {
            "text/html": [
              "<div>\n",
              "<style scoped>\n",
              "    .dataframe tbody tr th:only-of-type {\n",
              "        vertical-align: middle;\n",
              "    }\n",
              "\n",
              "    .dataframe tbody tr th {\n",
              "        vertical-align: top;\n",
              "    }\n",
              "\n",
              "    .dataframe thead th {\n",
              "        text-align: right;\n",
              "    }\n",
              "</style>\n",
              "<table border=\"1\" class=\"dataframe\">\n",
              "  <thead>\n",
              "    <tr style=\"text-align: right;\">\n",
              "      <th></th>\n",
              "      <th>Roll No</th>\n",
              "      <th>Gender</th>\n",
              "      <th>Section</th>\n",
              "      <th>SSC Percentage</th>\n",
              "      <th>inter_Diploma_percentage</th>\n",
              "      <th>B.Tech_percentage</th>\n",
              "      <th>Backlogs</th>\n",
              "      <th>registered_for_ Placement_Training</th>\n",
              "      <th>placement status</th>\n",
              "    </tr>\n",
              "  </thead>\n",
              "  <tbody>\n",
              "    <tr>\n",
              "      <th>61</th>\n",
              "      <td>62</td>\n",
              "      <td>F</td>\n",
              "      <td>NaN</td>\n",
              "      <td>85.33</td>\n",
              "      <td>91.20</td>\n",
              "      <td>74.30</td>\n",
              "      <td>0</td>\n",
              "      <td>NO</td>\n",
              "      <td>Placed</td>\n",
              "    </tr>\n",
              "    <tr>\n",
              "      <th>62</th>\n",
              "      <td>63</td>\n",
              "      <td>M</td>\n",
              "      <td>NaN</td>\n",
              "      <td>77.33</td>\n",
              "      <td>76.50</td>\n",
              "      <td>52.00</td>\n",
              "      <td>7</td>\n",
              "      <td>NO</td>\n",
              "      <td>Not placed</td>\n",
              "    </tr>\n",
              "    <tr>\n",
              "      <th>63</th>\n",
              "      <td>64</td>\n",
              "      <td>M</td>\n",
              "      <td>NaN</td>\n",
              "      <td>79.60</td>\n",
              "      <td>69.20</td>\n",
              "      <td>49.68</td>\n",
              "      <td>20</td>\n",
              "      <td>yes</td>\n",
              "      <td>Not placed</td>\n",
              "    </tr>\n",
              "    <tr>\n",
              "      <th>64</th>\n",
              "      <td>65</td>\n",
              "      <td>F</td>\n",
              "      <td>NaN</td>\n",
              "      <td>86.00</td>\n",
              "      <td>94.20</td>\n",
              "      <td>78.60</td>\n",
              "      <td>0</td>\n",
              "      <td>NO</td>\n",
              "      <td>Placed</td>\n",
              "    </tr>\n",
              "    <tr>\n",
              "      <th>65</th>\n",
              "      <td>66</td>\n",
              "      <td>F</td>\n",
              "      <td>NaN</td>\n",
              "      <td>90.00</td>\n",
              "      <td>91.60</td>\n",
              "      <td>72.40</td>\n",
              "      <td>0</td>\n",
              "      <td>yes</td>\n",
              "      <td>Placed</td>\n",
              "    </tr>\n",
              "    <tr>\n",
              "      <th>66</th>\n",
              "      <td>67</td>\n",
              "      <td>F</td>\n",
              "      <td>NaN</td>\n",
              "      <td>83.66</td>\n",
              "      <td>90.40</td>\n",
              "      <td>72.47</td>\n",
              "      <td>0</td>\n",
              "      <td>yes</td>\n",
              "      <td>Placed</td>\n",
              "    </tr>\n",
              "    <tr>\n",
              "      <th>67</th>\n",
              "      <td>68</td>\n",
              "      <td>F</td>\n",
              "      <td>NaN</td>\n",
              "      <td>86.66</td>\n",
              "      <td>89.90</td>\n",
              "      <td>75.13</td>\n",
              "      <td>0</td>\n",
              "      <td>yes</td>\n",
              "      <td>Placed</td>\n",
              "    </tr>\n",
              "    <tr>\n",
              "      <th>68</th>\n",
              "      <td>69</td>\n",
              "      <td>M</td>\n",
              "      <td>NaN</td>\n",
              "      <td>85.00</td>\n",
              "      <td>61.00</td>\n",
              "      <td>52.56</td>\n",
              "      <td>6</td>\n",
              "      <td>NO</td>\n",
              "      <td>Not placed</td>\n",
              "    </tr>\n",
              "    <tr>\n",
              "      <th>69</th>\n",
              "      <td>70</td>\n",
              "      <td>M</td>\n",
              "      <td>NaN</td>\n",
              "      <td>47.80</td>\n",
              "      <td>52.40</td>\n",
              "      <td>44.73</td>\n",
              "      <td>22</td>\n",
              "      <td>NO</td>\n",
              "      <td>Not placed</td>\n",
              "    </tr>\n",
              "    <tr>\n",
              "      <th>70</th>\n",
              "      <td>71</td>\n",
              "      <td>F</td>\n",
              "      <td>NaN</td>\n",
              "      <td>90.33</td>\n",
              "      <td>95.60</td>\n",
              "      <td>80.47</td>\n",
              "      <td>0</td>\n",
              "      <td>yes</td>\n",
              "      <td>Placed</td>\n",
              "    </tr>\n",
              "    <tr>\n",
              "      <th>71</th>\n",
              "      <td>72</td>\n",
              "      <td>M</td>\n",
              "      <td>NaN</td>\n",
              "      <td>79.00</td>\n",
              "      <td>93.00</td>\n",
              "      <td>59.00</td>\n",
              "      <td>2</td>\n",
              "      <td>yes</td>\n",
              "      <td>Not placed</td>\n",
              "    </tr>\n",
              "    <tr>\n",
              "      <th>72</th>\n",
              "      <td>73</td>\n",
              "      <td>F</td>\n",
              "      <td>NaN</td>\n",
              "      <td>81.83</td>\n",
              "      <td>83.70</td>\n",
              "      <td>68.90</td>\n",
              "      <td>0</td>\n",
              "      <td>yes</td>\n",
              "      <td>Not placed</td>\n",
              "    </tr>\n",
              "    <tr>\n",
              "      <th>73</th>\n",
              "      <td>74</td>\n",
              "      <td>M</td>\n",
              "      <td>NaN</td>\n",
              "      <td>88.16</td>\n",
              "      <td>80.10</td>\n",
              "      <td>63.41</td>\n",
              "      <td>1</td>\n",
              "      <td>NO</td>\n",
              "      <td>Placed</td>\n",
              "    </tr>\n",
              "    <tr>\n",
              "      <th>74</th>\n",
              "      <td>75</td>\n",
              "      <td>F</td>\n",
              "      <td>NaN</td>\n",
              "      <td>75.50</td>\n",
              "      <td>81.70</td>\n",
              "      <td>73.13</td>\n",
              "      <td>0</td>\n",
              "      <td>yes</td>\n",
              "      <td>Not placed</td>\n",
              "    </tr>\n",
              "    <tr>\n",
              "      <th>75</th>\n",
              "      <td>76</td>\n",
              "      <td>M</td>\n",
              "      <td>NaN</td>\n",
              "      <td>78.60</td>\n",
              "      <td>87.80</td>\n",
              "      <td>56.88</td>\n",
              "      <td>10</td>\n",
              "      <td>yes</td>\n",
              "      <td>Not placed</td>\n",
              "    </tr>\n",
              "    <tr>\n",
              "      <th>76</th>\n",
              "      <td>77</td>\n",
              "      <td>M</td>\n",
              "      <td>NaN</td>\n",
              "      <td>78.00</td>\n",
              "      <td>59.00</td>\n",
              "      <td>51.06</td>\n",
              "      <td>17</td>\n",
              "      <td>NO</td>\n",
              "      <td>Not placed</td>\n",
              "    </tr>\n",
              "    <tr>\n",
              "      <th>77</th>\n",
              "      <td>78</td>\n",
              "      <td>F</td>\n",
              "      <td>NaN</td>\n",
              "      <td>74.16</td>\n",
              "      <td>91.70</td>\n",
              "      <td>73.09</td>\n",
              "      <td>1</td>\n",
              "      <td>NO</td>\n",
              "      <td>Not placed</td>\n",
              "    </tr>\n",
              "    <tr>\n",
              "      <th>78</th>\n",
              "      <td>79</td>\n",
              "      <td>F</td>\n",
              "      <td>NaN</td>\n",
              "      <td>89.00</td>\n",
              "      <td>86.00</td>\n",
              "      <td>65.60</td>\n",
              "      <td>0</td>\n",
              "      <td>NO</td>\n",
              "      <td>Not placed</td>\n",
              "    </tr>\n",
              "    <tr>\n",
              "      <th>79</th>\n",
              "      <td>80</td>\n",
              "      <td>M</td>\n",
              "      <td>NaN</td>\n",
              "      <td>70.00</td>\n",
              "      <td>81.00</td>\n",
              "      <td>57.75</td>\n",
              "      <td>3</td>\n",
              "      <td>NO</td>\n",
              "      <td>Not placed</td>\n",
              "    </tr>\n",
              "    <tr>\n",
              "      <th>80</th>\n",
              "      <td>81</td>\n",
              "      <td>M</td>\n",
              "      <td>NaN</td>\n",
              "      <td>86.00</td>\n",
              "      <td>91.90</td>\n",
              "      <td>62.16</td>\n",
              "      <td>2</td>\n",
              "      <td>NO</td>\n",
              "      <td>Not placed</td>\n",
              "    </tr>\n",
              "    <tr>\n",
              "      <th>81</th>\n",
              "      <td>82</td>\n",
              "      <td>F</td>\n",
              "      <td>NaN</td>\n",
              "      <td>84.84</td>\n",
              "      <td>91.60</td>\n",
              "      <td>70.09</td>\n",
              "      <td>0</td>\n",
              "      <td>NO</td>\n",
              "      <td>Placed</td>\n",
              "    </tr>\n",
              "    <tr>\n",
              "      <th>82</th>\n",
              "      <td>83</td>\n",
              "      <td>M</td>\n",
              "      <td>NaN</td>\n",
              "      <td>83.66</td>\n",
              "      <td>90.50</td>\n",
              "      <td>57.80</td>\n",
              "      <td>2</td>\n",
              "      <td>NO</td>\n",
              "      <td>Placed</td>\n",
              "    </tr>\n",
              "    <tr>\n",
              "      <th>83</th>\n",
              "      <td>84</td>\n",
              "      <td>M</td>\n",
              "      <td>NaN</td>\n",
              "      <td>89.00</td>\n",
              "      <td>88.90</td>\n",
              "      <td>63.00</td>\n",
              "      <td>1</td>\n",
              "      <td>NO</td>\n",
              "      <td>Not placed</td>\n",
              "    </tr>\n",
              "    <tr>\n",
              "      <th>84</th>\n",
              "      <td>85</td>\n",
              "      <td>F</td>\n",
              "      <td>NaN</td>\n",
              "      <td>74.00</td>\n",
              "      <td>88.40</td>\n",
              "      <td>76.02</td>\n",
              "      <td>0</td>\n",
              "      <td>NO</td>\n",
              "      <td>Placed</td>\n",
              "    </tr>\n",
              "    <tr>\n",
              "      <th>85</th>\n",
              "      <td>86</td>\n",
              "      <td>F</td>\n",
              "      <td>NaN</td>\n",
              "      <td>87.33</td>\n",
              "      <td>83.80</td>\n",
              "      <td>69.48</td>\n",
              "      <td>0</td>\n",
              "      <td>NO</td>\n",
              "      <td>Placed</td>\n",
              "    </tr>\n",
              "    <tr>\n",
              "      <th>86</th>\n",
              "      <td>87</td>\n",
              "      <td>F</td>\n",
              "      <td>NaN</td>\n",
              "      <td>50.66</td>\n",
              "      <td>54.20</td>\n",
              "      <td>60.53</td>\n",
              "      <td>1</td>\n",
              "      <td>NO</td>\n",
              "      <td>Not placed</td>\n",
              "    </tr>\n",
              "    <tr>\n",
              "      <th>87</th>\n",
              "      <td>88</td>\n",
              "      <td>M</td>\n",
              "      <td>NaN</td>\n",
              "      <td>82.00</td>\n",
              "      <td>73.60</td>\n",
              "      <td>42.00</td>\n",
              "      <td>11</td>\n",
              "      <td>NO</td>\n",
              "      <td>Not placed</td>\n",
              "    </tr>\n",
              "    <tr>\n",
              "      <th>88</th>\n",
              "      <td>89</td>\n",
              "      <td>M</td>\n",
              "      <td>NaN</td>\n",
              "      <td>65.30</td>\n",
              "      <td>77.70</td>\n",
              "      <td>62.99</td>\n",
              "      <td>1</td>\n",
              "      <td>NO</td>\n",
              "      <td>Not placed</td>\n",
              "    </tr>\n",
              "    <tr>\n",
              "      <th>89</th>\n",
              "      <td>90</td>\n",
              "      <td>F</td>\n",
              "      <td>NaN</td>\n",
              "      <td>83.00</td>\n",
              "      <td>83.00</td>\n",
              "      <td>62.97</td>\n",
              "      <td>1</td>\n",
              "      <td>NO</td>\n",
              "      <td>Not placed</td>\n",
              "    </tr>\n",
              "    <tr>\n",
              "      <th>90</th>\n",
              "      <td>91</td>\n",
              "      <td>M</td>\n",
              "      <td>NaN</td>\n",
              "      <td>60.83</td>\n",
              "      <td>80.20</td>\n",
              "      <td>54.00</td>\n",
              "      <td>5</td>\n",
              "      <td>NO</td>\n",
              "      <td>Not placed</td>\n",
              "    </tr>\n",
              "    <tr>\n",
              "      <th>91</th>\n",
              "      <td>92</td>\n",
              "      <td>M</td>\n",
              "      <td>NaN</td>\n",
              "      <td>83.16</td>\n",
              "      <td>79.90</td>\n",
              "      <td>68.70</td>\n",
              "      <td>0</td>\n",
              "      <td>NO</td>\n",
              "      <td>Not placed</td>\n",
              "    </tr>\n",
              "    <tr>\n",
              "      <th>92</th>\n",
              "      <td>93</td>\n",
              "      <td>M</td>\n",
              "      <td>NaN</td>\n",
              "      <td>88.10</td>\n",
              "      <td>89.10</td>\n",
              "      <td>61.68</td>\n",
              "      <td>0</td>\n",
              "      <td>yes</td>\n",
              "      <td>Not placed</td>\n",
              "    </tr>\n",
              "    <tr>\n",
              "      <th>93</th>\n",
              "      <td>94</td>\n",
              "      <td>M</td>\n",
              "      <td>NaN</td>\n",
              "      <td>72.00</td>\n",
              "      <td>81.00</td>\n",
              "      <td>51.00</td>\n",
              "      <td>10</td>\n",
              "      <td>NO</td>\n",
              "      <td>Not placed</td>\n",
              "    </tr>\n",
              "    <tr>\n",
              "      <th>94</th>\n",
              "      <td>95</td>\n",
              "      <td>M</td>\n",
              "      <td>NaN</td>\n",
              "      <td>89.33</td>\n",
              "      <td>88.60</td>\n",
              "      <td>69.62</td>\n",
              "      <td>0</td>\n",
              "      <td>NO</td>\n",
              "      <td>Placed</td>\n",
              "    </tr>\n",
              "    <tr>\n",
              "      <th>95</th>\n",
              "      <td>96</td>\n",
              "      <td>F</td>\n",
              "      <td>NaN</td>\n",
              "      <td>79.33</td>\n",
              "      <td>61.10</td>\n",
              "      <td>62.98</td>\n",
              "      <td>0</td>\n",
              "      <td>NO</td>\n",
              "      <td>Not placed</td>\n",
              "    </tr>\n",
              "    <tr>\n",
              "      <th>96</th>\n",
              "      <td>97</td>\n",
              "      <td>F</td>\n",
              "      <td>NaN</td>\n",
              "      <td>92.33</td>\n",
              "      <td>96.90</td>\n",
              "      <td>88.10</td>\n",
              "      <td>0</td>\n",
              "      <td>yes</td>\n",
              "      <td>Placed</td>\n",
              "    </tr>\n",
              "    <tr>\n",
              "      <th>97</th>\n",
              "      <td>98</td>\n",
              "      <td>F</td>\n",
              "      <td>NaN</td>\n",
              "      <td>76.83</td>\n",
              "      <td>80.40</td>\n",
              "      <td>72.73</td>\n",
              "      <td>0</td>\n",
              "      <td>yes</td>\n",
              "      <td>Not placed</td>\n",
              "    </tr>\n",
              "    <tr>\n",
              "      <th>98</th>\n",
              "      <td>99</td>\n",
              "      <td>F</td>\n",
              "      <td>NaN</td>\n",
              "      <td>88.30</td>\n",
              "      <td>93.90</td>\n",
              "      <td>78.60</td>\n",
              "      <td>0</td>\n",
              "      <td>NO</td>\n",
              "      <td>Placed</td>\n",
              "    </tr>\n",
              "    <tr>\n",
              "      <th>99</th>\n",
              "      <td>100</td>\n",
              "      <td>F</td>\n",
              "      <td>NaN</td>\n",
              "      <td>82.83</td>\n",
              "      <td>84.10</td>\n",
              "      <td>72.57</td>\n",
              "      <td>0</td>\n",
              "      <td>yes</td>\n",
              "      <td>Not placed</td>\n",
              "    </tr>\n",
              "    <tr>\n",
              "      <th>100</th>\n",
              "      <td>101</td>\n",
              "      <td>F</td>\n",
              "      <td>NaN</td>\n",
              "      <td>79.83</td>\n",
              "      <td>64.20</td>\n",
              "      <td>65.46</td>\n",
              "      <td>0</td>\n",
              "      <td>NO</td>\n",
              "      <td>Not placed</td>\n",
              "    </tr>\n",
              "    <tr>\n",
              "      <th>101</th>\n",
              "      <td>102</td>\n",
              "      <td>F</td>\n",
              "      <td>NaN</td>\n",
              "      <td>82.66</td>\n",
              "      <td>89.60</td>\n",
              "      <td>83.38</td>\n",
              "      <td>0</td>\n",
              "      <td>NO</td>\n",
              "      <td>Placed</td>\n",
              "    </tr>\n",
              "    <tr>\n",
              "      <th>102</th>\n",
              "      <td>103</td>\n",
              "      <td>F</td>\n",
              "      <td>NaN</td>\n",
              "      <td>92.66</td>\n",
              "      <td>93.70</td>\n",
              "      <td>76.35</td>\n",
              "      <td>0</td>\n",
              "      <td>NO</td>\n",
              "      <td>Placed</td>\n",
              "    </tr>\n",
              "    <tr>\n",
              "      <th>103</th>\n",
              "      <td>104</td>\n",
              "      <td>M</td>\n",
              "      <td>NaN</td>\n",
              "      <td>88.00</td>\n",
              "      <td>67.90</td>\n",
              "      <td>53.26</td>\n",
              "      <td>9</td>\n",
              "      <td>NO</td>\n",
              "      <td>Not placed</td>\n",
              "    </tr>\n",
              "    <tr>\n",
              "      <th>104</th>\n",
              "      <td>105</td>\n",
              "      <td>F</td>\n",
              "      <td>NaN</td>\n",
              "      <td>68.16</td>\n",
              "      <td>62.60</td>\n",
              "      <td>64.63</td>\n",
              "      <td>0</td>\n",
              "      <td>NO</td>\n",
              "      <td>Not placed</td>\n",
              "    </tr>\n",
              "    <tr>\n",
              "      <th>105</th>\n",
              "      <td>106</td>\n",
              "      <td>M</td>\n",
              "      <td>NaN</td>\n",
              "      <td>84.10</td>\n",
              "      <td>73.00</td>\n",
              "      <td>57.30</td>\n",
              "      <td>0</td>\n",
              "      <td>NO</td>\n",
              "      <td>Not placed</td>\n",
              "    </tr>\n",
              "    <tr>\n",
              "      <th>106</th>\n",
              "      <td>107</td>\n",
              "      <td>M</td>\n",
              "      <td>NaN</td>\n",
              "      <td>74.50</td>\n",
              "      <td>69.60</td>\n",
              "      <td>56.89</td>\n",
              "      <td>2</td>\n",
              "      <td>NO</td>\n",
              "      <td>Not placed</td>\n",
              "    </tr>\n",
              "    <tr>\n",
              "      <th>107</th>\n",
              "      <td>108</td>\n",
              "      <td>M</td>\n",
              "      <td>NaN</td>\n",
              "      <td>83.00</td>\n",
              "      <td>81.01</td>\n",
              "      <td>58.00</td>\n",
              "      <td>1</td>\n",
              "      <td>NO</td>\n",
              "      <td>Not placed</td>\n",
              "    </tr>\n",
              "    <tr>\n",
              "      <th>108</th>\n",
              "      <td>109</td>\n",
              "      <td>M</td>\n",
              "      <td>NaN</td>\n",
              "      <td>62.00</td>\n",
              "      <td>70.91</td>\n",
              "      <td>55.70</td>\n",
              "      <td>2</td>\n",
              "      <td>NO</td>\n",
              "      <td>Not placed</td>\n",
              "    </tr>\n",
              "    <tr>\n",
              "      <th>109</th>\n",
              "      <td>110</td>\n",
              "      <td>M</td>\n",
              "      <td>NaN</td>\n",
              "      <td>81.00</td>\n",
              "      <td>73.00</td>\n",
              "      <td>42.17</td>\n",
              "      <td>15</td>\n",
              "      <td>NO</td>\n",
              "      <td>Not placed</td>\n",
              "    </tr>\n",
              "    <tr>\n",
              "      <th>110</th>\n",
              "      <td>111</td>\n",
              "      <td>M</td>\n",
              "      <td>NaN</td>\n",
              "      <td>82.30</td>\n",
              "      <td>75.13</td>\n",
              "      <td>54.16</td>\n",
              "      <td>2</td>\n",
              "      <td>NO</td>\n",
              "      <td>Not placed</td>\n",
              "    </tr>\n",
              "    <tr>\n",
              "      <th>111</th>\n",
              "      <td>112</td>\n",
              "      <td>M</td>\n",
              "      <td>NaN</td>\n",
              "      <td>63.66</td>\n",
              "      <td>69.00</td>\n",
              "      <td>61.00</td>\n",
              "      <td>1</td>\n",
              "      <td>NO</td>\n",
              "      <td>Not placed</td>\n",
              "    </tr>\n",
              "    <tr>\n",
              "      <th>112</th>\n",
              "      <td>113</td>\n",
              "      <td>M</td>\n",
              "      <td>NaN</td>\n",
              "      <td>81.10</td>\n",
              "      <td>78.60</td>\n",
              "      <td>35.84</td>\n",
              "      <td>16</td>\n",
              "      <td>NO</td>\n",
              "      <td>Not placed</td>\n",
              "    </tr>\n",
              "    <tr>\n",
              "      <th>113</th>\n",
              "      <td>114</td>\n",
              "      <td>M</td>\n",
              "      <td>NaN</td>\n",
              "      <td>81.30</td>\n",
              "      <td>85.12</td>\n",
              "      <td>68.50</td>\n",
              "      <td>0</td>\n",
              "      <td>NO</td>\n",
              "      <td>Not placed</td>\n",
              "    </tr>\n",
              "    <tr>\n",
              "      <th>114</th>\n",
              "      <td>115</td>\n",
              "      <td>M</td>\n",
              "      <td>NaN</td>\n",
              "      <td>83.50</td>\n",
              "      <td>89.90</td>\n",
              "      <td>76.30</td>\n",
              "      <td>0</td>\n",
              "      <td>NO</td>\n",
              "      <td>Not placed</td>\n",
              "    </tr>\n",
              "    <tr>\n",
              "      <th>115</th>\n",
              "      <td>116</td>\n",
              "      <td>M</td>\n",
              "      <td>NaN</td>\n",
              "      <td>85.50</td>\n",
              "      <td>90.63</td>\n",
              "      <td>74.50</td>\n",
              "      <td>0</td>\n",
              "      <td>NO</td>\n",
              "      <td>Not placed</td>\n",
              "    </tr>\n",
              "    <tr>\n",
              "      <th>116</th>\n",
              "      <td>117</td>\n",
              "      <td>M</td>\n",
              "      <td>NaN</td>\n",
              "      <td>80.00</td>\n",
              "      <td>83.33</td>\n",
              "      <td>65.53</td>\n",
              "      <td>0</td>\n",
              "      <td>NO</td>\n",
              "      <td>Not placed</td>\n",
              "    </tr>\n",
              "  </tbody>\n",
              "</table>\n",
              "</div>"
            ],
            "text/plain": [
              "     Roll No Gender  ... registered_for_ Placement_Training  placement status\n",
              "61        62      F  ...                                 NO            Placed\n",
              "62        63      M  ...                                 NO        Not placed\n",
              "63        64      M  ...                                yes        Not placed\n",
              "64        65      F  ...                                 NO            Placed\n",
              "65        66      F  ...                                yes            Placed\n",
              "66        67      F  ...                                yes            Placed\n",
              "67        68      F  ...                                yes            Placed\n",
              "68        69      M  ...                                 NO        Not placed\n",
              "69        70      M  ...                                 NO        Not placed\n",
              "70        71      F  ...                                yes            Placed\n",
              "71        72      M  ...                                yes        Not placed\n",
              "72        73      F  ...                                yes        Not placed\n",
              "73        74      M  ...                                 NO            Placed\n",
              "74        75      F  ...                                yes        Not placed\n",
              "75        76      M  ...                                yes        Not placed\n",
              "76        77      M  ...                                 NO        Not placed\n",
              "77        78      F  ...                                 NO        Not placed\n",
              "78        79      F  ...                                 NO        Not placed\n",
              "79        80      M  ...                                 NO        Not placed\n",
              "80        81      M  ...                                 NO        Not placed\n",
              "81        82      F  ...                                 NO            Placed\n",
              "82        83      M  ...                                 NO            Placed\n",
              "83        84      M  ...                                 NO        Not placed\n",
              "84        85      F  ...                                 NO            Placed\n",
              "85        86      F  ...                                 NO            Placed\n",
              "86        87      F  ...                                 NO        Not placed\n",
              "87        88      M  ...                                 NO        Not placed\n",
              "88        89      M  ...                                 NO        Not placed\n",
              "89        90      F  ...                                 NO        Not placed\n",
              "90        91      M  ...                                 NO        Not placed\n",
              "91        92      M  ...                                 NO        Not placed\n",
              "92        93      M  ...                                yes        Not placed\n",
              "93        94      M  ...                                 NO        Not placed\n",
              "94        95      M  ...                                 NO            Placed\n",
              "95        96      F  ...                                 NO        Not placed\n",
              "96        97      F  ...                                yes            Placed\n",
              "97        98      F  ...                                yes        Not placed\n",
              "98        99      F  ...                                 NO            Placed\n",
              "99       100      F  ...                                yes        Not placed\n",
              "100      101      F  ...                                 NO        Not placed\n",
              "101      102      F  ...                                 NO            Placed\n",
              "102      103      F  ...                                 NO            Placed\n",
              "103      104      M  ...                                 NO        Not placed\n",
              "104      105      F  ...                                 NO        Not placed\n",
              "105      106      M  ...                                 NO        Not placed\n",
              "106      107      M  ...                                 NO        Not placed\n",
              "107      108      M  ...                                 NO        Not placed\n",
              "108      109      M  ...                                 NO        Not placed\n",
              "109      110      M  ...                                 NO        Not placed\n",
              "110      111      M  ...                                 NO        Not placed\n",
              "111      112      M  ...                                 NO        Not placed\n",
              "112      113      M  ...                                 NO        Not placed\n",
              "113      114      M  ...                                 NO        Not placed\n",
              "114      115      M  ...                                 NO        Not placed\n",
              "115      116      M  ...                                 NO        Not placed\n",
              "116      117      M  ...                                 NO        Not placed\n",
              "\n",
              "[56 rows x 9 columns]"
            ]
          },
          "metadata": {
            "tags": []
          },
          "execution_count": 59
        }
      ]
    },
    {
      "cell_type": "code",
      "metadata": {
        "id": "lYMg19V9t3Y4",
        "colab_type": "code",
        "colab": {}
      },
      "source": [
        "x=a[\"SSC Percentage\"].values.reshape(-1,1)\n",
        "y=a[\"inter_Diploma_percentage\"].values.reshape(-1,1)\n",
        "x1=b[\"SSC Percentage\"].values.reshape(-1,1)\n",
        "y1=b[\"inter_Diploma_percentage\"].values.reshape(-1,1)"
      ],
      "execution_count": 0,
      "outputs": []
    },
    {
      "cell_type": "markdown",
      "metadata": {
        "id": "hqC09y_Evx9n",
        "colab_type": "text"
      },
      "source": [
        "FINDING SLOPE AND INTERCEPT FOR SECTION A"
      ]
    },
    {
      "cell_type": "code",
      "metadata": {
        "id": "s0mFdG4WvE7h",
        "colab_type": "code",
        "colab": {}
      },
      "source": [
        "X_train,X_test,Y_train,Y_test=train_test_split(x,y,test_size=0.2)"
      ],
      "execution_count": 0,
      "outputs": []
    },
    {
      "cell_type": "code",
      "metadata": {
        "id": "MN4u3Q7FvRZB",
        "colab_type": "code",
        "colab": {
          "base_uri": "https://localhost:8080/",
          "height": 34
        },
        "outputId": "74d39ffb-a659-4201-c6d4-9fa0053826b5"
      },
      "source": [
        "model=LinearRegression()\n",
        "model.fit(X_train,Y_train)"
      ],
      "execution_count": 43,
      "outputs": [
        {
          "output_type": "execute_result",
          "data": {
            "text/plain": [
              "LinearRegression(copy_X=True, fit_intercept=True, n_jobs=None, normalize=False)"
            ]
          },
          "metadata": {
            "tags": []
          },
          "execution_count": 43
        }
      ]
    },
    {
      "cell_type": "code",
      "metadata": {
        "id": "GJPzU0GuvYqg",
        "colab_type": "code",
        "colab": {
          "base_uri": "https://localhost:8080/",
          "height": 34
        },
        "outputId": "f1a83003-acca-4f30-b737-75c9101f15c0"
      },
      "source": [
        "print(model.intercept_)"
      ],
      "execution_count": 44,
      "outputs": [
        {
          "output_type": "stream",
          "text": [
            "[9.55589959]\n"
          ],
          "name": "stdout"
        }
      ]
    },
    {
      "cell_type": "code",
      "metadata": {
        "id": "qVkDZDhWvdDX",
        "colab_type": "code",
        "colab": {
          "base_uri": "https://localhost:8080/",
          "height": 34
        },
        "outputId": "379f4bd4-f83f-44ac-c272-c15b72b98baf"
      },
      "source": [
        "print(model.coef_)"
      ],
      "execution_count": 45,
      "outputs": [
        {
          "output_type": "stream",
          "text": [
            "[[0.88421129]]\n"
          ],
          "name": "stdout"
        }
      ]
    },
    {
      "cell_type": "code",
      "metadata": {
        "id": "t-I6fF5Nvm12",
        "colab_type": "code",
        "colab": {
          "base_uri": "https://localhost:8080/",
          "height": 238
        },
        "outputId": "0a1f8231-02d8-4a1a-a028-adaf61eb8a81"
      },
      "source": [
        "predicted_ssc=model.predict(X_test)\n",
        "predicted_ssc"
      ],
      "execution_count": 46,
      "outputs": [
        {
          "output_type": "execute_result",
          "data": {
            "text/plain": [
              "array([[81.91090905],\n",
              "       [82.85701512],\n",
              "       [73.36942803],\n",
              "       [86.12859688],\n",
              "       [86.74754478],\n",
              "       [84.71385882],\n",
              "       [82.06122497],\n",
              "       [65.34963168],\n",
              "       [86.57070252],\n",
              "       [87.50796648],\n",
              "       [82.35301469],\n",
              "       [79.40859111],\n",
              "       [86.85365013]])"
            ]
          },
          "metadata": {
            "tags": []
          },
          "execution_count": 46
        }
      ]
    },
    {
      "cell_type": "code",
      "metadata": {
        "id": "Xcox5O4Tvq-o",
        "colab_type": "code",
        "colab": {
          "base_uri": "https://localhost:8080/",
          "height": 452
        },
        "outputId": "ee29a096-7ac4-4cd7-ff6f-dac453e83b10"
      },
      "source": [
        "Actual_predicted=pd.DataFrame({'predicted':predicted_ssc.flatten(), 'Actual':Y_test.flatten()})\n",
        "Actual_predicted"
      ],
      "execution_count": 47,
      "outputs": [
        {
          "output_type": "execute_result",
          "data": {
            "text/html": [
              "<div>\n",
              "<style scoped>\n",
              "    .dataframe tbody tr th:only-of-type {\n",
              "        vertical-align: middle;\n",
              "    }\n",
              "\n",
              "    .dataframe tbody tr th {\n",
              "        vertical-align: top;\n",
              "    }\n",
              "\n",
              "    .dataframe thead th {\n",
              "        text-align: right;\n",
              "    }\n",
              "</style>\n",
              "<table border=\"1\" class=\"dataframe\">\n",
              "  <thead>\n",
              "    <tr style=\"text-align: right;\">\n",
              "      <th></th>\n",
              "      <th>predicted</th>\n",
              "      <th>Actual</th>\n",
              "    </tr>\n",
              "  </thead>\n",
              "  <tbody>\n",
              "    <tr>\n",
              "      <th>0</th>\n",
              "      <td>81.910909</td>\n",
              "      <td>85.6</td>\n",
              "    </tr>\n",
              "    <tr>\n",
              "      <th>1</th>\n",
              "      <td>82.857015</td>\n",
              "      <td>73.4</td>\n",
              "    </tr>\n",
              "    <tr>\n",
              "      <th>2</th>\n",
              "      <td>73.369428</td>\n",
              "      <td>77.7</td>\n",
              "    </tr>\n",
              "    <tr>\n",
              "      <th>3</th>\n",
              "      <td>86.128597</td>\n",
              "      <td>78.4</td>\n",
              "    </tr>\n",
              "    <tr>\n",
              "      <th>4</th>\n",
              "      <td>86.747545</td>\n",
              "      <td>65.3</td>\n",
              "    </tr>\n",
              "    <tr>\n",
              "      <th>5</th>\n",
              "      <td>84.713859</td>\n",
              "      <td>89.6</td>\n",
              "    </tr>\n",
              "    <tr>\n",
              "      <th>6</th>\n",
              "      <td>82.061225</td>\n",
              "      <td>91.4</td>\n",
              "    </tr>\n",
              "    <tr>\n",
              "      <th>7</th>\n",
              "      <td>65.349632</td>\n",
              "      <td>52.2</td>\n",
              "    </tr>\n",
              "    <tr>\n",
              "      <th>8</th>\n",
              "      <td>86.570703</td>\n",
              "      <td>88.7</td>\n",
              "    </tr>\n",
              "    <tr>\n",
              "      <th>9</th>\n",
              "      <td>87.507966</td>\n",
              "      <td>91.4</td>\n",
              "    </tr>\n",
              "    <tr>\n",
              "      <th>10</th>\n",
              "      <td>82.353015</td>\n",
              "      <td>76.3</td>\n",
              "    </tr>\n",
              "    <tr>\n",
              "      <th>11</th>\n",
              "      <td>79.408591</td>\n",
              "      <td>88.9</td>\n",
              "    </tr>\n",
              "    <tr>\n",
              "      <th>12</th>\n",
              "      <td>86.853650</td>\n",
              "      <td>92.2</td>\n",
              "    </tr>\n",
              "  </tbody>\n",
              "</table>\n",
              "</div>"
            ],
            "text/plain": [
              "    predicted  Actual\n",
              "0   81.910909    85.6\n",
              "1   82.857015    73.4\n",
              "2   73.369428    77.7\n",
              "3   86.128597    78.4\n",
              "4   86.747545    65.3\n",
              "5   84.713859    89.6\n",
              "6   82.061225    91.4\n",
              "7   65.349632    52.2\n",
              "8   86.570703    88.7\n",
              "9   87.507966    91.4\n",
              "10  82.353015    76.3\n",
              "11  79.408591    88.9\n",
              "12  86.853650    92.2"
            ]
          },
          "metadata": {
            "tags": []
          },
          "execution_count": 47
        }
      ]
    },
    {
      "cell_type": "markdown",
      "metadata": {
        "id": "RBDzut1Gv777",
        "colab_type": "text"
      },
      "source": [
        "FINDING SLOPE AND INTERCEPT FOR SECTION B"
      ]
    },
    {
      "cell_type": "code",
      "metadata": {
        "id": "kbmOXgV5v7GJ",
        "colab_type": "code",
        "colab": {}
      },
      "source": [
        "\n",
        "X1_train,X1_test,Y1_train,Y1_test=train_test_df.boxplot(by ='day', column =['total_bill'], grid = False) \n",
        "split(x1,y1,test_size=0.2)"
      ],
      "execution_count": 0,
      "outputs": []
    },
    {
      "cell_type": "code",
      "metadata": {
        "id": "P3o4CxE8wKkE",
        "colab_type": "code",
        "colab": {
          "base_uri": "https://localhost:8080/",
          "height": 34
        },
        "outputId": "ae687276-255e-42aa-dcf5-8f97b43eeaa5"
      },
      "source": [
        "model1=LinearRegression()\n",
        "model1.fit(X1_train,Y1_train)"
      ],
      "execution_count": 49,
      "outputs": [
        {
          "output_type": "execute_result",
          "data": {
            "text/plain": [
              "LinearRegression(copy_X=True, fit_intercept=True, n_jobs=None, normalize=False)"
            ]
          },
          "metadata": {
            "tags": []
          },
          "execution_count": 49
        }
      ]
    },
    {
      "cell_type": "code",
      "metadata": {
        "id": "PWf4kc-8wUfh",
        "colab_type": "code",
        "colab": {
          "base_uri": "https://localhost:8080/",
          "height": 34
        },
        "outputId": "1ff4e1c7-a780-4bcb-df3b-4a197abe616b"
      },
      "source": [
        "print(model1.intercept_)"
      ],
      "execution_count": 50,
      "outputs": [
        {
          "output_type": "stream",
          "text": [
            "[30.08504327]\n"
          ],
          "name": "stdout"
        }
      ]
    },
    {
      "cell_type": "code",
      "metadata": {
        "id": "G8uVHsQDwZza",
        "colab_type": "code",
        "colab": {
          "base_uri": "https://localhost:8080/",
          "height": 34
        },
        "outputId": "12d02e2c-e9f4-4cff-8956-1ded3c47a4c9"
      },
      "source": [
        "print(model1.coef_)"
      ],
      "execution_count": 51,
      "outputs": [
        {
          "output_type": "stream",
          "text": [
            "[[0.64466393]]\n"
          ],
          "name": "stdout"
        }
      ]
    },
    {
      "cell_type": "code",
      "metadata": {
        "id": "VuiWDUGZwjQg",
        "colab_type": "code",
        "colab": {
          "base_uri": "https://localhost:8080/",
          "height": 221
        },
        "outputId": "88110055-1b8d-4c1d-ecd0-7b123ad22f49"
      },
      "source": [
        "predicted_ssc1=model1.predict(X1_test)\n",
        "predicted_ssc1"
      ],
      "execution_count": 53,
      "outputs": [
        {
          "output_type": "execute_result",
          "data": {
            "text/plain": [
              "array([[78.1125058 ],\n",
              "       [82.83789239],\n",
              "       [83.59214918],\n",
              "       [86.87993521],\n",
              "       [62.74371779],\n",
              "       [81.40029183],\n",
              "       [87.00886799],\n",
              "       [77.89332007],\n",
              "       [88.10479667],\n",
              "       [81.22623257],\n",
              "       [84.01762737],\n",
              "       [80.36882955]])"
            ]
          },
          "metadata": {
            "tags": []
          },
          "execution_count": 53
        }
      ]
    },
    {
      "cell_type": "code",
      "metadata": {
        "id": "DuSwJPBbwl6E",
        "colab_type": "code",
        "colab": {
          "base_uri": "https://localhost:8080/",
          "height": 421
        },
        "outputId": "0a8ac3a5-3d82-4868-b8e4-e442c13b5b53"
      },
      "source": [
        "Actual_predicted1=pd.DataFrame({'predicted':predicted_ssc1.flatten(), 'Actual':Y1_test.flatten()})\n",
        "Actual_predicted1"
      ],
      "execution_count": 55,
      "outputs": [
        {
          "output_type": "execute_result",
          "data": {
            "text/html": [
              "<div>\n",
              "<style scoped>\n",
              "    .dataframe tbody tr th:only-of-type {\n",
              "        vertical-align: middle;\n",
              "    }\n",
              "\n",
              "    .dataframe tbody tr th {\n",
              "        vertical-align: top;\n",
              "    }\n",
              "\n",
              "    .dataframe thead th {\n",
              "        text-align: right;\n",
              "    }\n",
              "</style>\n",
              "<table border=\"1\" class=\"dataframe\">\n",
              "  <thead>\n",
              "    <tr style=\"text-align: right;\">\n",
              "      <th></th>\n",
              "      <th>predicted</th>\n",
              "      <th>Actual</th>\n",
              "    </tr>\n",
              "  </thead>\n",
              "  <tbody>\n",
              "    <tr>\n",
              "      <th>0</th>\n",
              "      <td>78.112506</td>\n",
              "      <td>69.60</td>\n",
              "    </tr>\n",
              "    <tr>\n",
              "      <th>1</th>\n",
              "      <td>82.837892</td>\n",
              "      <td>83.70</td>\n",
              "    </tr>\n",
              "    <tr>\n",
              "      <th>2</th>\n",
              "      <td>83.592149</td>\n",
              "      <td>81.01</td>\n",
              "    </tr>\n",
              "    <tr>\n",
              "      <th>3</th>\n",
              "      <td>86.879935</td>\n",
              "      <td>89.10</td>\n",
              "    </tr>\n",
              "    <tr>\n",
              "      <th>4</th>\n",
              "      <td>62.743718</td>\n",
              "      <td>54.20</td>\n",
              "    </tr>\n",
              "    <tr>\n",
              "      <th>5</th>\n",
              "      <td>81.400292</td>\n",
              "      <td>69.20</td>\n",
              "    </tr>\n",
              "    <tr>\n",
              "      <th>6</th>\n",
              "      <td>87.008868</td>\n",
              "      <td>93.90</td>\n",
              "    </tr>\n",
              "    <tr>\n",
              "      <th>7</th>\n",
              "      <td>77.893320</td>\n",
              "      <td>91.70</td>\n",
              "    </tr>\n",
              "    <tr>\n",
              "      <th>8</th>\n",
              "      <td>88.104797</td>\n",
              "      <td>91.60</td>\n",
              "    </tr>\n",
              "    <tr>\n",
              "      <th>9</th>\n",
              "      <td>81.226233</td>\n",
              "      <td>61.10</td>\n",
              "    </tr>\n",
              "    <tr>\n",
              "      <th>10</th>\n",
              "      <td>84.017627</td>\n",
              "      <td>90.50</td>\n",
              "    </tr>\n",
              "    <tr>\n",
              "      <th>11</th>\n",
              "      <td>80.368830</td>\n",
              "      <td>59.00</td>\n",
              "    </tr>\n",
              "  </tbody>\n",
              "</table>\n",
              "</div>"
            ],
            "text/plain": [
              "    predicted  Actual\n",
              "0   78.112506   69.60\n",
              "1   82.837892   83.70\n",
              "2   83.592149   81.01\n",
              "3   86.879935   89.10\n",
              "4   62.743718   54.20\n",
              "5   81.400292   69.20\n",
              "6   87.008868   93.90\n",
              "7   77.893320   91.70\n",
              "8   88.104797   91.60\n",
              "9   81.226233   61.10\n",
              "10  84.017627   90.50\n",
              "11  80.368830   59.00"
            ]
          },
          "metadata": {
            "tags": []
          },
          "execution_count": 55
        }
      ]
    },
    {
      "cell_type": "code",
      "metadata": {
        "id": "kb1AvjMC_XmR",
        "colab_type": "code",
        "colab": {
          "base_uri": "https://localhost:8080/",
          "height": 85
        },
        "outputId": "cc8f3056-33d3-4df8-863f-8ace184db1c1"
      },
      "source": [
        "print(model.intercept_) #FOR SECTION A\n",
        "print(model.coef_) #FOR SECTION A\n",
        "print(model1.intercept_) #FOR SECTION B\n",
        "print(model1.coef_) #FOR SECTION B"
      ],
      "execution_count": 96,
      "outputs": [
        {
          "output_type": "stream",
          "text": [
            "[9.55589959]\n",
            "[[0.88421129]]\n",
            "[30.08504327]\n",
            "[[0.64466393]]\n"
          ],
          "name": "stdout"
        }
      ]
    },
    {
      "cell_type": "code",
      "metadata": {
        "id": "7loNRgTt_XlU",
        "colab_type": "code",
        "colab": {
          "base_uri": "https://localhost:8080/",
          "height": 283
        },
        "outputId": "5efae7ca-173d-4d66-f09f-933f6ef76be3"
      },
      "source": [
        "a.boxplot(column =['SSC Percentage'], grid = True ) "
      ],
      "execution_count": 98,
      "outputs": [
        {
          "output_type": "execute_result",
          "data": {
            "text/plain": [
              "<matplotlib.axes._subplots.AxesSubplot at 0x7ff71f444e10>"
            ]
          },
          "metadata": {
            "tags": []
          },
          "execution_count": 98
        },
        {
          "output_type": "display_data",
          "data": {
            "image/png": "[encoded data removed]",
            "text/plain": [
              "<Figure size 432x288 with 1 Axes>"
            ]
          },
          "metadata": {
            "tags": []
          }
        }
      ]
    },
    {
      "cell_type": "code",
      "metadata": {
        "id": "xPANCsvFCSnw",
        "colab_type": "code",
        "colab": {
          "base_uri": "https://localhost:8080/",
          "height": 282
        },
        "outputId": "85f20e61-532f-47bd-fb94-9d439cb29480"
      },
      "source": [
        "b.boxplot(column =['SSC Percentage'], grid = True )"
      ],
      "execution_count": 99,
      "outputs": [
        {
          "output_type": "execute_result",
          "data": {
            "text/plain": [
              "<matplotlib.axes._subplots.AxesSubplot at 0x7ff71f482748>"
            ]
          },
          "metadata": {
            "tags": []
          },
          "execution_count": 99
        },
        {
          "output_type": "display_data",
          "data": {
            "image/png": "[encoded data removed]",
            "text/plain": [
              "<Figure size 432x288 with 1 Axes>"
            ]
          },
          "metadata": {
            "tags": []
          }
        }
      ]
    },
    {
      "cell_type": "markdown",
      "metadata": {
        "id": "c1ZyH7PlCpWP",
        "colab_type": "text"
      },
      "source": [
        "From the above box plots for ssc percentage betwwen sections A and B, we can sat that students of section A performed better"
      ]
    }
  ]
}